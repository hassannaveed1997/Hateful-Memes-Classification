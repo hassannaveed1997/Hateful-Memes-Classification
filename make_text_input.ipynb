{
 "cells": [
  {
   "cell_type": "code",
   "execution_count": 5,
   "id": "414064cb",
   "metadata": {},
   "outputs": [],
   "source": [
    "import pandas as pd"
   ]
  },
  {
   "cell_type": "markdown",
   "id": "012679c8",
   "metadata": {},
   "source": [
    "# Read in and clean up the captions file"
   ]
  },
  {
   "cell_type": "code",
   "execution_count": 8,
   "id": "9682e7ae",
   "metadata": {},
   "outputs": [],
   "source": [
    "captions = pd.read_csv(\"./data/captions.csv\", header=None)"
   ]
  },
  {
   "cell_type": "code",
   "execution_count": 14,
   "id": "a691f75d",
   "metadata": {},
   "outputs": [],
   "source": [
    "# Combine captions split across multiple columns due to presence of comma in caption\n",
    "captions.fillna(\"\", inplace=True)\n",
    "captions[1] = captions[1] + captions[2] + captions[3]\n",
    "captions.drop(columns=[2, 3], inplace=True)"
   ]
  },
  {
   "cell_type": "code",
   "execution_count": 18,
   "id": "ae0894a7",
   "metadata": {},
   "outputs": [],
   "source": [
    "# drop any possible duplicates\n",
    "captions.drop_duplicates(inplace=True)"
   ]
  },
  {
   "cell_type": "code",
   "execution_count": 22,
   "id": "7045e87a",
   "metadata": {},
   "outputs": [],
   "source": [
    "# remove the file name to just get the image ID\n",
    "captions[0] = captions[0].apply(lambda x: x.split(\".\")[0])"
   ]
  },
  {
   "cell_type": "code",
   "execution_count": 24,
   "id": "515e2561",
   "metadata": {},
   "outputs": [],
   "source": [
    "# Convert caption to all lowercase\n",
    "captions[1] = captions[1].apply(lambda x: x.lower())"
   ]
  },
  {
   "cell_type": "code",
   "execution_count": 34,
   "id": "b3e20c65",
   "metadata": {},
   "outputs": [],
   "source": [
    "# Rename fields\n",
    "captions.rename(columns={0: 'id', 1: 'caption'}, inplace=True)"
   ]
  },
  {
   "cell_type": "code",
   "execution_count": 54,
   "id": "130ad1c4",
   "metadata": {},
   "outputs": [],
   "source": [
    "# Set id to index\n",
    "captions.set_index('id', inplace=True)"
   ]
  },
  {
   "cell_type": "code",
   "execution_count": 55,
   "id": "3e68cbf5",
   "metadata": {},
   "outputs": [
    {
     "data": {
      "text/html": [
       "<div>\n",
       "<style scoped>\n",
       "    .dataframe tbody tr th:only-of-type {\n",
       "        vertical-align: middle;\n",
       "    }\n",
       "\n",
       "    .dataframe tbody tr th {\n",
       "        vertical-align: top;\n",
       "    }\n",
       "\n",
       "    .dataframe thead th {\n",
       "        text-align: right;\n",
       "    }\n",
       "</style>\n",
       "<table border=\"1\" class=\"dataframe\">\n",
       "  <thead>\n",
       "    <tr style=\"text-align: right;\">\n",
       "      <th></th>\n",
       "      <th>caption</th>\n",
       "    </tr>\n",
       "    <tr>\n",
       "      <th>id</th>\n",
       "      <th></th>\n",
       "    </tr>\n",
       "  </thead>\n",
       "  <tbody>\n",
       "    <tr>\n",
       "      <th>01235</th>\n",
       "      <td>a man with a beard is holding a pair of scissors</td>\n",
       "    </tr>\n",
       "    <tr>\n",
       "      <th>01236</th>\n",
       "      <td>a group of people with some animals on their h...</td>\n",
       "    </tr>\n",
       "    <tr>\n",
       "      <th>01243</th>\n",
       "      <td>a dog with a pink collar and a red collar</td>\n",
       "    </tr>\n",
       "    <tr>\n",
       "      <th>01245</th>\n",
       "      <td>a young child wearing a hat and a hat.</td>\n",
       "    </tr>\n",
       "    <tr>\n",
       "      <th>01247</th>\n",
       "      <td>a man with a beard and a beard wearing a tie.</td>\n",
       "    </tr>\n",
       "    <tr>\n",
       "      <th>...</th>\n",
       "      <td>...</td>\n",
       "    </tr>\n",
       "    <tr>\n",
       "      <th>98752</th>\n",
       "      <td>a dog laying on a bed with a picture of a cat.</td>\n",
       "    </tr>\n",
       "    <tr>\n",
       "      <th>98754</th>\n",
       "      <td>a poster of a woman with a mustache and a pict...</td>\n",
       "    </tr>\n",
       "    <tr>\n",
       "      <th>98756</th>\n",
       "      <td>a woman with a smile on her face with a smile ...</td>\n",
       "    </tr>\n",
       "    <tr>\n",
       "      <th>98762</th>\n",
       "      <td>a young boy holding a blue frisbee in his hands.</td>\n",
       "    </tr>\n",
       "    <tr>\n",
       "      <th>98764</th>\n",
       "      <td>a man holding a baseball bat in his hands.</td>\n",
       "    </tr>\n",
       "  </tbody>\n",
       "</table>\n",
       "<p>12140 rows × 1 columns</p>\n",
       "</div>"
      ],
      "text/plain": [
       "                                                 caption\n",
       "id                                                      \n",
       "01235   a man with a beard is holding a pair of scissors\n",
       "01236  a group of people with some animals on their h...\n",
       "01243          a dog with a pink collar and a red collar\n",
       "01245             a young child wearing a hat and a hat.\n",
       "01247      a man with a beard and a beard wearing a tie.\n",
       "...                                                  ...\n",
       "98752     a dog laying on a bed with a picture of a cat.\n",
       "98754  a poster of a woman with a mustache and a pict...\n",
       "98756  a woman with a smile on her face with a smile ...\n",
       "98762   a young boy holding a blue frisbee in his hands.\n",
       "98764         a man holding a baseball bat in his hands.\n",
       "\n",
       "[12140 rows x 1 columns]"
      ]
     },
     "execution_count": 55,
     "metadata": {},
     "output_type": "execute_result"
    }
   ],
   "source": [
    "captions"
   ]
  },
  {
   "cell_type": "markdown",
   "id": "b618d344",
   "metadata": {},
   "source": [
    "# Add captions to train"
   ]
  },
  {
   "cell_type": "code",
   "execution_count": 29,
   "id": "bd06edaa",
   "metadata": {},
   "outputs": [],
   "source": [
    "train = pd.read_json(\"./data/train.jsonl\", dtype=str, lines=True)"
   ]
  },
  {
   "cell_type": "code",
   "execution_count": 56,
   "id": "2ac69b0b",
   "metadata": {},
   "outputs": [],
   "source": [
    "train.set_index(\"id\", inplace=True)"
   ]
  },
  {
   "cell_type": "code",
   "execution_count": 58,
   "id": "c24723e8",
   "metadata": {},
   "outputs": [],
   "source": [
    "train = train.join(captions)"
   ]
  },
  {
   "cell_type": "code",
   "execution_count": 61,
   "id": "dced8bcf",
   "metadata": {},
   "outputs": [],
   "source": [
    "train.reset_index(inplace=True)"
   ]
  },
  {
   "cell_type": "code",
   "execution_count": 62,
   "id": "45743ffa",
   "metadata": {},
   "outputs": [
    {
     "data": {
      "text/html": [
       "<div>\n",
       "<style scoped>\n",
       "    .dataframe tbody tr th:only-of-type {\n",
       "        vertical-align: middle;\n",
       "    }\n",
       "\n",
       "    .dataframe tbody tr th {\n",
       "        vertical-align: top;\n",
       "    }\n",
       "\n",
       "    .dataframe thead th {\n",
       "        text-align: right;\n",
       "    }\n",
       "</style>\n",
       "<table border=\"1\" class=\"dataframe\">\n",
       "  <thead>\n",
       "    <tr style=\"text-align: right;\">\n",
       "      <th></th>\n",
       "      <th>id</th>\n",
       "      <th>img</th>\n",
       "      <th>label</th>\n",
       "      <th>text</th>\n",
       "      <th>caption</th>\n",
       "    </tr>\n",
       "  </thead>\n",
       "  <tbody>\n",
       "    <tr>\n",
       "      <th>0</th>\n",
       "      <td>42953</td>\n",
       "      <td>img/42953.png</td>\n",
       "      <td>0</td>\n",
       "      <td>its their character not their color that matters</td>\n",
       "      <td>a man in a suit and tie with a picture of a man.</td>\n",
       "    </tr>\n",
       "    <tr>\n",
       "      <th>1</th>\n",
       "      <td>23058</td>\n",
       "      <td>img/23058.png</td>\n",
       "      <td>0</td>\n",
       "      <td>don't be afraid to love again everyone is not ...</td>\n",
       "      <td>a woman and man standing next to each other.</td>\n",
       "    </tr>\n",
       "    <tr>\n",
       "      <th>2</th>\n",
       "      <td>13894</td>\n",
       "      <td>img/13894.png</td>\n",
       "      <td>0</td>\n",
       "      <td>putting bows on your pet</td>\n",
       "      <td>a cat with a red collar and red tie.</td>\n",
       "    </tr>\n",
       "    <tr>\n",
       "      <th>3</th>\n",
       "      <td>37408</td>\n",
       "      <td>img/37408.png</td>\n",
       "      <td>0</td>\n",
       "      <td>i love everything and everybody! except for sq...</td>\n",
       "      <td>a black dog with a collar and a brown collar</td>\n",
       "    </tr>\n",
       "    <tr>\n",
       "      <th>4</th>\n",
       "      <td>82403</td>\n",
       "      <td>img/82403.png</td>\n",
       "      <td>0</td>\n",
       "      <td>everybody loves chocolate chip cookies, even h...</td>\n",
       "      <td>a man in a suit and tie standing in front of a...</td>\n",
       "    </tr>\n",
       "  </tbody>\n",
       "</table>\n",
       "</div>"
      ],
      "text/plain": [
       "      id            img label  \\\n",
       "0  42953  img/42953.png     0   \n",
       "1  23058  img/23058.png     0   \n",
       "2  13894  img/13894.png     0   \n",
       "3  37408  img/37408.png     0   \n",
       "4  82403  img/82403.png     0   \n",
       "\n",
       "                                                text  \\\n",
       "0   its their character not their color that matters   \n",
       "1  don't be afraid to love again everyone is not ...   \n",
       "2                           putting bows on your pet   \n",
       "3  i love everything and everybody! except for sq...   \n",
       "4  everybody loves chocolate chip cookies, even h...   \n",
       "\n",
       "                                             caption  \n",
       "0   a man in a suit and tie with a picture of a man.  \n",
       "1       a woman and man standing next to each other.  \n",
       "2               a cat with a red collar and red tie.  \n",
       "3       a black dog with a collar and a brown collar  \n",
       "4  a man in a suit and tie standing in front of a...  "
      ]
     },
     "execution_count": 62,
     "metadata": {},
     "output_type": "execute_result"
    }
   ],
   "source": [
    "train.head()"
   ]
  },
  {
   "cell_type": "code",
   "execution_count": 63,
   "id": "770fb93a",
   "metadata": {},
   "outputs": [],
   "source": [
    "train.to_csv(\"./data/train_captioned.csv\")"
   ]
  },
  {
   "cell_type": "markdown",
   "id": "8e642ea1",
   "metadata": {},
   "source": [
    "# Add captions to all other data files"
   ]
  },
  {
   "cell_type": "code",
   "execution_count": 65,
   "id": "38891cea",
   "metadata": {},
   "outputs": [],
   "source": [
    "files = ['dev_seen.jsonl', 'dev_unseen.jsonl', 'test_seen.jsonl', 'test_unseen.jsonl']\n",
    "for file in files:\n",
    "    data = pd.read_json(f\"./data/{file}\", dtype=str, lines=True)\n",
    "    data.set_index(\"id\", inplace=True)\n",
    "    data = data.join(captions)\n",
    "    data.reset_index(inplace=True)\n",
    "    file_name = file.split('.')[0]\n",
    "    data.to_csv(f\"./data/{file_name}_captioned.csv\")"
   ]
  },
  {
   "cell_type": "code",
   "execution_count": null,
   "id": "366cc5cc",
   "metadata": {},
   "outputs": [],
   "source": []
  }
 ],
 "metadata": {
  "kernelspec": {
   "display_name": "Python 3 (ipykernel)",
   "language": "python",
   "name": "python3"
  },
  "language_info": {
   "codemirror_mode": {
    "name": "ipython",
    "version": 3
   },
   "file_extension": ".py",
   "mimetype": "text/x-python",
   "name": "python",
   "nbconvert_exporter": "python",
   "pygments_lexer": "ipython3",
   "version": "3.8.13"
  }
 },
 "nbformat": 4,
 "nbformat_minor": 5
}
